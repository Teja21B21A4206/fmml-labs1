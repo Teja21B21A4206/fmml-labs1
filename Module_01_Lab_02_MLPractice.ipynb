{
  "nbformat": 4,
  "nbformat_minor": 0,
  "metadata": {
    "colab": {
      "provenance": [],
      "include_colab_link": true
    },
    "kernelspec": {
      "name": "python3",
      "display_name": "Python 3"
    },
    "language_info": {
      "name": "python"
    }
  },
  "cells": [
    {
      "cell_type": "markdown",
      "metadata": {
        "id": "view-in-github",
        "colab_type": "text"
      },
      "source": [
        "<a href=\"https://colab.research.google.com/github/Teja21B21A4206/fmml-labs1/blob/main/Module_01_Lab_02_MLPractice.ipynb\" target=\"_parent\"><img src=\"https://colab.research.google.com/assets/colab-badge.svg\" alt=\"Open In Colab\"/></a>"
      ]
    },
    {
      "cell_type": "markdown",
      "metadata": {
        "id": "3Eu9VZbF01eq"
      },
      "source": [
        "# Machine learning terms and metrics\n",
        "\n",
        "FMML Module 1, Lab 2<br>\n",
        "\n",
        "\n",
        " In this lab, we will show a part of the ML pipeline by extracting features, training and testing"
      ]
    },
    {
      "cell_type": "code",
      "metadata": {
        "id": "8qBvyEem0vLi"
      },
      "source": [
        "import matplotlib.pyplot as plt\n",
        "import numpy as np\n",
        "from sklearn import datasets\n",
        "# set randomseed\n",
        "rng = np.random.default_rng(seed=42)"
      ],
      "execution_count": 1,
      "outputs": []
    },
    {
      "cell_type": "markdown",
      "metadata": {
        "id": "u3t59g5s1HfC"
      },
      "source": [
        "In this lab, we will use the California Housing dataset. There are 20640 samples, each with 8 attributes like income of the block, age of the houses per district etc. The task is to predict the cost of the houses per district.\n",
        "\n",
        "Let us download and examine the dataset."
      ]
    },
    {
      "cell_type": "code",
      "metadata": {
        "id": "8LpqjN991GGJ",
        "colab": {
          "base_uri": "https://localhost:8080/"
        },
        "outputId": "1e5d7b28-a6b3-4105-d00a-f4bf4f2abf34"
      },
      "source": [
        " dataset =  datasets.fetch_california_housing()\n",
        " # print(dataset.DESCR)  # uncomment this if you want to know more about this dataset\n",
        " # print(dataset.keys())  # if you want to know what else is there in this dataset\n",
        " dataset.target = dataset.target.astype(np.int) # so that we can classify\n",
        " print(dataset.data.shape)\n",
        " print(dataset.target.shape)"
      ],
      "execution_count": 2,
      "outputs": [
        {
          "output_type": "stream",
          "name": "stdout",
          "text": [
            "(20640, 8)\n",
            "(20640,)\n"
          ]
        },
        {
          "output_type": "stream",
          "name": "stderr",
          "text": [
            "<ipython-input-2-60ae2e9a125e>:4: DeprecationWarning: `np.int` is a deprecated alias for the builtin `int`. To silence this warning, use `int` by itself. Doing this will not modify any behavior and is safe. When replacing `np.int`, you may wish to use e.g. `np.int64` or `np.int32` to specify the precision. If you wish to review your current use, check the release note link for additional information.\n",
            "Deprecated in NumPy 1.20; for more details and guidance: https://numpy.org/devdocs/release/1.20.0-notes.html#deprecations\n",
            "  dataset.target = dataset.target.astype(np.int) # so that we can classify\n"
          ]
        }
      ]
    },
    {
      "cell_type": "markdown",
      "metadata": {
        "id": "iNx4174W5xRg"
      },
      "source": [
        "Here is a function for calculating the 1-nearest neighbours"
      ]
    },
    {
      "cell_type": "code",
      "metadata": {
        "id": "07zpydQj1hIQ"
      },
      "source": [
        "def NN1(traindata, trainlabel, query):\n",
        "  diff  = traindata - query  # find the difference between features. Numpy automatically takes care of the size here\n",
        "  sq = diff*diff # square the differences\n",
        "  dist = sq.sum(1) # add up the squares\n",
        "  label = trainlabel[np.argmin(dist)] # our predicted label is the label of the training data which has the least distance from the query\n",
        "  return label\n",
        "\n",
        "def NN(traindata, trainlabel, testdata):\n",
        "  # we will run nearest neighbour for each sample in the test data\n",
        "  # and collect the predicted classes in an array using list comprehension\n",
        "  predlabel = np.array([NN1(traindata, trainlabel, i) for i in testdata])\n",
        "  return predlabel"
      ],
      "execution_count": 3,
      "outputs": []
    },
    {
      "cell_type": "markdown",
      "metadata": {
        "id": "03JktkfIGaje"
      },
      "source": [
        "We will also define a 'random classifier', which randomly allots labels to each sample"
      ]
    },
    {
      "cell_type": "code",
      "metadata": {
        "id": "fogWAtjyGhAH"
      },
      "source": [
        "def RandomClassifier(traindata, trainlabel, testdata):\n",
        "  # in reality, we don't need these arguments\n",
        "\n",
        "  classes = np.unique(trainlabel)\n",
        "  rints = rng.integers(low=0, high=len(classes), size=len(testdata))\n",
        "  predlabel = classes[rints]\n",
        "  return predlabel"
      ],
      "execution_count": 4,
      "outputs": []
    },
    {
      "cell_type": "markdown",
      "metadata": {
        "id": "1Hjf1KHs7fU5"
      },
      "source": [
        "Let us define a metric 'Accuracy' to see how good our learning algorithm is. Accuracy is the ratio of the number of correctly classified samples to the total number of samples. The higher the accuracy, the better the algorithm."
      ]
    },
    {
      "cell_type": "code",
      "metadata": {
        "id": "ouuCqWU07bz-"
      },
      "source": [
        "def Accuracy(gtlabel, predlabel):\n",
        "  assert len(gtlabel)==len(predlabel), \"Length of the groundtruth labels and predicted labels should be the same\"\n",
        "  correct = (gtlabel==predlabel).sum() # count the number of times the groundtruth label is equal to the predicted label.\n",
        "  return correct/len(gtlabel)"
      ],
      "execution_count": 5,
      "outputs": []
    },
    {
      "cell_type": "markdown",
      "metadata": {
        "id": "4vJFwBFa9Klw"
      },
      "source": [
        "Let us make a function to split the dataset with the desired probability."
      ]
    },
    {
      "cell_type": "code",
      "metadata": {
        "id": "Ko0VzpSM2Tdi"
      },
      "source": [
        "def split(data, label, percent):\n",
        "  # generate a random number for each sample\n",
        "  rnd = rng.random(len(label))\n",
        "  split1 = rnd<percent\n",
        "  split2 = rnd>=percent\n",
        "  split1data = data[split1,:]\n",
        "  split1label = label[split1]\n",
        "  split2data = data[split2,:]\n",
        "  split2label = label[split2]\n",
        "  return split1data, split1label, split2data, split2label"
      ],
      "execution_count": 6,
      "outputs": []
    },
    {
      "cell_type": "markdown",
      "metadata": {
        "id": "AcK3LEAJ_LGC"
      },
      "source": [
        "We will reserve 20% of our dataset as the test set. We will not change this portion throughout our experiments"
      ]
    },
    {
      "cell_type": "code",
      "metadata": {
        "id": "bBZkHBLJ1iU-",
        "colab": {
          "base_uri": "https://localhost:8080/"
        },
        "outputId": "5e88dc43-5ba4-464b-fd2f-21e5c562d953"
      },
      "source": [
        "testdata, testlabel, alltraindata, alltrainlabel = split(dataset.data, dataset.target, 20/100)\n",
        "print('Number of test samples = ', len(testlabel))\n",
        "print('Number of other samples = ', len(alltrainlabel))\n",
        "print('Percent of test data = ', len(testlabel)*100/len(dataset.target),'%')"
      ],
      "execution_count": 7,
      "outputs": [
        {
          "output_type": "stream",
          "name": "stdout",
          "text": [
            "Number of test samples =  4144\n",
            "Number of other samples =  16496\n",
            "Percent of test data =  20.07751937984496 %\n"
          ]
        }
      ]
    },
    {
      "cell_type": "markdown",
      "metadata": {
        "id": "a6Ss0Z6IAGNV"
      },
      "source": [
        "## Experiments with splits\n",
        "\n",
        "Let us reserve some of our train data as a validation set"
      ]
    },
    {
      "cell_type": "code",
      "metadata": {
        "id": "WFew2iry_7W7"
      },
      "source": [
        "traindata, trainlabel, valdata, vallabel = split(alltraindata, alltrainlabel, 75/100)"
      ],
      "execution_count": 8,
      "outputs": []
    },
    {
      "cell_type": "markdown",
      "metadata": {
        "id": "60hiu4clFN1i"
      },
      "source": [
        "What is the accuracy of our classifiers on the train dataset?"
      ]
    },
    {
      "cell_type": "code",
      "metadata": {
        "id": "DBlZDTHUFTZx",
        "colab": {
          "base_uri": "https://localhost:8080/"
        },
        "outputId": "a2ace1fd-ae78-42ba-d92f-08d837f056d7"
      },
      "source": [
        "trainpred = NN(traindata, trainlabel, traindata)\n",
        "trainAccuracy = Accuracy(trainlabel, trainpred)\n",
        "print(\"Train accuracy using nearest neighbour is \", trainAccuracy)\n",
        "\n",
        "trainpred = RandomClassifier(traindata, trainlabel, traindata)\n",
        "trainAccuracy = Accuracy(trainlabel, trainpred)\n",
        "print(\"Train accuracy using random classifier is \", trainAccuracy)"
      ],
      "execution_count": 9,
      "outputs": [
        {
          "output_type": "stream",
          "name": "stdout",
          "text": [
            "Train accuracy using nearest neighbour is  1.0\n",
            "Train accuracy using random classifier is  0.164375808538163\n"
          ]
        }
      ]
    },
    {
      "cell_type": "markdown",
      "metadata": {
        "id": "7h08-9gJDtSy"
      },
      "source": [
        "For nearest neighbour, the train accuracy is always 1. The accuracy of the random classifier is close to 1/(number of classes) which is 0.1666 in our case.\n",
        "\n",
        "Let us predict the labels for our validation set and get the accuracy"
      ]
    },
    {
      "cell_type": "code",
      "metadata": {
        "id": "4h7bXoW_2H3v",
        "colab": {
          "base_uri": "https://localhost:8080/"
        },
        "outputId": "a47d09ef-972e-4a5f-a781-fd381b3ad95e"
      },
      "source": [
        "valpred = NN(traindata, trainlabel, valdata)\n",
        "valAccuracy = Accuracy(vallabel, valpred)\n",
        "print(\"Validation accuracy using nearest neighbour is \", valAccuracy)\n",
        "\n",
        "valpred = RandomClassifier(traindata, trainlabel, valdata)\n",
        "valAccuracy = Accuracy(vallabel, valpred)\n",
        "print(\"Validation accuracy using random classifier is \", valAccuracy)"
      ],
      "execution_count": 10,
      "outputs": [
        {
          "output_type": "stream",
          "name": "stdout",
          "text": [
            "Validation accuracy using nearest neighbour is  0.34108527131782945\n",
            "Validation accuracy using random classifier is  0.1688468992248062\n"
          ]
        }
      ]
    },
    {
      "cell_type": "markdown",
      "metadata": {
        "id": "py9bLguFEjfg"
      },
      "source": [
        "Validation accuracy of nearest neighbour is considerably less than its train accuracy while the validation accuracy of random classifier is the same. However, the validation accuracy of nearest neighbour is twice that of the random classifier.\n",
        "\n",
        "Now let us try another random split and check the validation accuracy"
      ]
    },
    {
      "cell_type": "code",
      "metadata": {
        "id": "ujm3cyYzEntE",
        "colab": {
          "base_uri": "https://localhost:8080/"
        },
        "outputId": "46b46c34-d0d4-4857-8403-d2989dce9d72"
      },
      "source": [
        "traindata, trainlabel, valdata, vallabel = split(alltraindata, alltrainlabel, 75/100)\n",
        "valpred = NN(traindata, trainlabel, valdata)\n",
        "valAccuracy = Accuracy(vallabel, valpred)\n",
        "print(\"Validation accuracy of nearest neighbour is \", valAccuracy)"
      ],
      "execution_count": 11,
      "outputs": [
        {
          "output_type": "stream",
          "name": "stdout",
          "text": [
            "Validation accuracy of nearest neighbour is  0.34048257372654156\n"
          ]
        }
      ]
    },
    {
      "cell_type": "markdown",
      "metadata": {
        "id": "oSOx7U83EKie"
      },
      "source": [
        "You can run the above cell multiple times to try with different random splits.\n",
        "We notice that the accuracy is different for each run, but close together.\n",
        "\n",
        "Now let us compare it with the accuracy we get on the test dataset."
      ]
    },
    {
      "cell_type": "code",
      "metadata": {
        "id": "PNEZ5ToYBEDW",
        "colab": {
          "base_uri": "https://localhost:8080/"
        },
        "outputId": "987a287c-2373-4a0c-8dab-04c9e97f2b49"
      },
      "source": [
        "testpred = NN(alltraindata, alltrainlabel, testdata)\n",
        "testAccuracy = Accuracy(testlabel, testpred)\n",
        "print('Test accuracy is ', testAccuracy)"
      ],
      "execution_count": 12,
      "outputs": [
        {
          "output_type": "stream",
          "name": "stdout",
          "text": [
            "Test accuracy is  0.34917953667953666\n"
          ]
        }
      ]
    },
    {
      "cell_type": "markdown",
      "metadata": {
        "id": "w3dGD531K3gH"
      },
      "source": [
        "### Try it out for yourself and answer:\n",
        "1. How is the accuracy of the validation set affected if we increase the percentage of validation set? What happens when we reduce it?\n",
        "2. How does the size of the train and validation set affect how well we can predict the accuracy on the test set using the validation set?\n",
        "3. What do you think is a good percentage to reserve for the validation set so that thest two factors are balanced?\n",
        "\n",
        "Answer for both nearest neighbour and random classifier. You can note down the values for your experiments and plot a graph using  <a href=https://matplotlib.org/stable/gallery/lines_bars_and_markers/step_demo.html#sphx-glr-gallery-lines-bars-and-markers-step-demo-py>plt.plot<href>. Check also for extreme values for splits, like 99.9% or 0.1%"
      ]
    },
    {
      "cell_type": "markdown",
      "metadata": {
        "id": "PnYvkAZLQY7h"
      },
      "source": [
        "## Multiple Splits\n",
        "\n",
        "One way to get more accurate estimates for the test accuracy is by using <b>crossvalidation</b>. Here, we will try a simple version, where we do multiple train/val splits and take the average of validation accuracies as the test accuracy estimation. Here is a function for doing this. Note that this function will take a long time to execute."
      ]
    },
    {
      "cell_type": "code",
      "metadata": {
        "id": "E4nGCUQXBTzo"
      },
      "source": [
        "# you can use this function for random classifier also\n",
        "def AverageAccuracy(alldata, alllabel, splitpercent, iterations, classifier=NN):\n",
        "  accuracy = 0\n",
        "  for ii in range(iterations):\n",
        "    traindata, trainlabel, valdata, vallabel = split(alldata, alllabel, splitpercent)\n",
        "    valpred = classifier(traindata, trainlabel, valdata)\n",
        "    accuracy += Accuracy(vallabel, valpred)\n",
        "  return accuracy/iterations # average of all accuracies"
      ],
      "execution_count": 13,
      "outputs": []
    },
    {
      "cell_type": "code",
      "metadata": {
        "id": "H3qtNar7Bbik",
        "colab": {
          "base_uri": "https://localhost:8080/"
        },
        "outputId": "93bd018a-154d-4999-ecd3-97397da4bf6f"
      },
      "source": [
        "print('Average validation accuracy is ', AverageAccuracy(alltraindata, alltrainlabel, 75/100, 10, classifier=NN))\n",
        "testpred = NN(alltraindata, alltrainlabel, testdata)\n",
        "print('test accuracy is ',Accuracy(testlabel, testpred) )"
      ],
      "execution_count": 14,
      "outputs": [
        {
          "output_type": "stream",
          "name": "stdout",
          "text": [
            "Average validation accuracy is  0.33584635395170215\n",
            "test accuracy is  0.34917953667953666\n"
          ]
        }
      ]
    },
    {
      "cell_type": "markdown",
      "metadata": {
        "id": "33GIn4x5VH-d"
      },
      "source": [
        "This is a very simple way of doing cross-validation. There are many well-known algorithms for cross-validation, like k-fold cross-validation, leave-one-out etc. This will be covered in detail in a later module. For more information about cross-validation, check <a href=https://en.wikipedia.org/wiki/Cross-validation_(statistics)>Cross-validatioin (Wikipedia)</a>\n",
        "\n",
        "### Questions\n",
        "1. Does averaging the validation accuracy across multiple splits give more consistent results?\n",
        "2. Does it give more accurate estimate of test accuracy?\n",
        "3. What is the effect of the number of iterations on the estimate? Do we get a better estimate with higher iterations?\n",
        "4. Consider the results you got for the previous questions. Can we deal with a very small train dataset or validation dataset by increasing the iterations?\n"
      ]
    },
    {
      "cell_type": "markdown",
      "source": [
        "1. Does averaging the validation accuracy across multiple splits give more consistent results?\n",
        "\n",
        "A.Yes, averaging the validation accuracy across multiple splits of your dataset can often give you more consistent and reliable results when assessing the performance of a machine learning model. This technique is commonly known as cross-validation.\n",
        "\n",
        "Cross-validation helps address the potential issue of the randomness in how data is split into training and validation sets. When you split your data into a single training and validation set, the specific data points in each set can greatly affect the performance metric (e.g., accuracy) you obtain. This variability may not reflect the true generalization ability of your model.\n",
        "\n",
        "Cross-validation works by splitting your dataset into multiple (often k) subsets or folds. You train and validate your model k times, each time using a different fold as the validation set and the remaining folds as the training set. You then average the performance metrics (e.g., accuracy) obtained across these k iterations.\n",
        "\n",
        "Here are some advantages of using cross-validation:\n",
        "\n",
        "Reduced Variance: By averaging results over multiple splits, cross-validation reduces the variance in your performance estimates, providing a more stable and representative evaluation of your model's performance.\n",
        "\n",
        "Better Generalization Assessment: Cross-validation provides a more accurate assessment of how well your model generalizes to new, unseen data because it tests the model on multiple different subsets of the data.\n",
        "\n",
        "Efficient Use of Data: It allows you to make better use of your data because all data points are used for both training and validation across the k iterations.\n",
        "\n",
        "However, keep in mind that cross-validation can be computationally expensive, especially when working with large datasets or complex models. It's also important to choose an appropriate value of k (e.g., 5-fold or 10-fold cross-validation) based on the size of your dataset and computational resources.\n",
        "\n",
        "In summary, averaging validation accuracy (or other performance metrics) across multiple splits using cross-validation is a common and valuable technique for obtaining more consistent and reliable assessments of your machine learning model's performance.\n",
        "\n",
        "\n",
        "\n",
        "\n",
        "\n"
      ],
      "metadata": {
        "id": "jtXns_DuhU0y"
      }
    },
    {
      "cell_type": "markdown",
      "source": [
        "2.Does it give more accurate estimate of test accuracy?\n",
        "\n",
        "\n",
        "A.Cross-validation, which involves averaging validation accuracy across multiple splits, provides a more accurate estimate of how well your model is likely to perform on unseen data compared to a single train-test split. However, it's essential to understand that cross-validation estimates are still not a direct replacement for the true test accuracy.\n",
        "\n",
        "Here's why cross-validation provides a more accurate estimate of test accuracy:\n",
        "\n",
        "Reduces Variance: Cross-validation helps reduce the variability in performance estimates. With a single train-test split, the specific data points in the test set can significantly impact the test accuracy. Cross-validation averages out these variations across multiple splits, resulting in a more stable and reliable performance estimate.\n",
        "\n",
        "Better Generalization Assessment: Cross-validation tests your model's performance on multiple subsets of the data, which mimics the scenario of evaluating the model on different unseen datasets. This gives you a more comprehensive view of how well your model generalizes to new, unseen data.\n",
        "\n",
        "Efficient Use of Data: Cross-validation ensures that all data points are used for both training and validation, which can lead to a more representative evaluation of your model's capabilities.\n",
        "\n",
        "Despite these advantages, it's important to note that cross-validation estimates are still not the same as the true test accuracy. The true test accuracy is obtained by evaluating your model on a completely separate and unseen dataset that was not used during model development or hyperparameter tuning. This dataset serves as a final, unbiased evaluation of your model's performance.\n",
        "\n",
        "In practice, cross-validation is often used for model selection, hyperparameter tuning, and getting a robust estimate of how well a model is likely to perform on unseen data. Once you have a well-tuned model, you should still reserve a separate holdout dataset (a true test set) to obtain the final, unbiased estimate of your model's performance.\n",
        "\n",
        "So, while cross-validation gives you a more accurate estimate compared to a single train-test split, the true test accuracy remains the gold standard for assessing how well your model will perform in a real-world scenario."
      ],
      "metadata": {
        "id": "IiBmZNxih-O5"
      }
    },
    {
      "cell_type": "markdown",
      "source": [
        "3.What is the effect of the number of iterations on the estimate? Do we get a better estimate with higher iterations?\n",
        "\n",
        "\n",
        "A.The number of iterations (folds) in cross-validation can have an impact on the estimate of your model's performance, but the relationship is not necessarily linear, and there are trade-offs to consider.\n",
        "\n",
        "Effect on Estimate Accuracy:\n",
        "\n",
        "More Iterations: Increasing the number of iterations in cross-validation (e.g., using 10-fold or 20-fold instead of 5-fold) can lead to a more accurate estimate of your model's performance. With more iterations, you obtain performance metrics from a larger number of different train-test splits, which can help reduce the impact of randomness in the data splits.\n",
        "\n",
        "Diminishing Returns: However, there are diminishing returns as you increase the number of iterations. Going from 5-fold to 10-fold, for example, typically provides a noticeable improvement in estimate accuracy. However, increasing from 10-fold to 20-fold may yield smaller improvements and require significantly more computation.\n",
        "\n",
        "Trade-offs:\n",
        "\n",
        "Computational Cost: More iterations require more computational resources and time. The trade-off between computational cost and improved estimate accuracy should be considered.\n",
        "\n",
        "Data Size: If you have a small dataset, using a large number of folds can result in very small training sets in each fold, which might lead to less representative training data for each iteration.\n",
        "\n",
        "Stability of the Model:\n",
        "\n",
        "Cross-validation can provide a more stable estimate of your model's performance by averaging over multiple splits. However, extremely high numbers of iterations may lead to models that are overly tailored to the specific dataset splits, potentially reducing the model's ability to generalize to new data.\n",
        "In practice, the choice of the number of iterations in cross-validation (e.g., 5-fold, 10-fold, etc.) depends on factors like the size of your dataset, the computational resources available, and the trade-offs you are willing to make between accuracy and efficiency. It's common to start with a reasonable number of folds (e.g., 5 or 10) and then adjust if needed based on your specific circumstances.\n",
        "\n",
        "In summary, increasing the number of iterations in cross-validation can generally provide a better estimate of your model's performance, but the improvement may not be linear, and there are trade-offs to consider, including computational cost and the risk of overfitting to the specific dataset splits. The choice of the number of iterations should be made with these factors in mind."
      ],
      "metadata": {
        "id": "I66YeIqjiSUw"
      }
    },
    {
      "cell_type": "markdown",
      "source": [
        "4.Consider the results you got for the previous questions. Can we deal with a very small train dataset or validation dataset by increasing the iterations?\n",
        "\n",
        "\n",
        "\n",
        "A.Increasing the number of iterations (folds) in cross-validation can help mitigate the impact of having a very small training or validation dataset to some extent, but it doesn't completely solve the problem. There are limitations to how much you can compensate for a small dataset with more iterations.\n",
        "\n",
        "Here are some considerations:\n",
        "\n",
        "Mitigating Overfitting in a Small Training Set:\n",
        "\n",
        "If you have a small training dataset, using more iterations in cross-validation can help reduce the risk of overfitting. By repeatedly splitting the data into different training and validation sets, you expose your model to different subsets of the data, which can encourage it to learn more robust and generalizable patterns.\n",
        "Limitations of Small Validation Sets:\n",
        "\n",
        "While increasing the number of iterations can improve the estimate of model performance, it doesn't address the fundamental issue of having a small validation dataset. A small validation dataset may not provide a reliable assessment of how well your model generalizes to new, unseen data. This limitation remains, regardless of the number of iterations.\n",
        "Trade-offs:\n",
        "\n",
        "Increasing the number of iterations in cross-validation can lead to very small training sets in each fold if your overall dataset is small. This can potentially introduce other problems, such as increased model variance due to the limited amount of training data in each fold.\n",
        "In summary, while increasing the number of iterations in cross-validation can help improve model stability and reduce overfitting in the presence of a small training dataset, it cannot completely compensate for a small validation dataset. It's essential to recognize the limitations of your dataset and consider other strategies, such as data augmentation, feature engineering, or acquiring more data if possible, to address the challenges posed by a small dataset effectively. Cross-validation should be used as a tool to better estimate model performance but should not be solely relied upon when dealing with very small datasets."
      ],
      "metadata": {
        "id": "3APB24LUi9F-"
      }
    }
  ]
}